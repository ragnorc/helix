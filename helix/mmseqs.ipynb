{
 "cells": [
  {
   "cell_type": "code",
   "execution_count": 5,
   "metadata": {},
   "outputs": [
    {
     "name": "stdout",
     "output_type": "stream",
     "text": [
      "db\t     db_h.index\t\t   uniprot_sprot_h\t   uniprotkb.index\n",
      "db.dbtype    uniprot_sprot\t   uniprot_sprot_h.dbtype  uniprotkb.lookup\n",
      "db.index     uniprot_sprot.dbtype  uniprot_sprot_h.index   uniprotkb.source\n",
      "db.lookup    uniprot_sprot.fasta   uniprot_trembl.fasta    uniprotkb_h\n",
      "db.source    uniprot_sprot.index   uniprotkb\t\t   uniprotkb_h.dbtype\n",
      "db_h\t     uniprot_sprot.lookup  uniprotkb.dbtype\t   uniprotkb_h.index\n",
      "db_h.dbtype  uniprot_sprot.source  uniprotkb.fasta\n"
     ]
    }
   ],
   "source": [
    "!ls /mnt/protein_dbs"
   ]
  },
  {
   "cell_type": "code",
   "execution_count": 6,
   "metadata": {},
   "outputs": [
    {
     "name": "stdout",
     "output_type": "stream",
     "text": [
      "Fasta file created at /tmp/rebh.fasta\n"
     ]
    }
   ],
   "source": [
    "seq = \"MSGKIDKILIVGGGTAGWMAASYLGKALQGTADITLLQAPDIPTLGVGEATIPNLQTAFFDFLGIPEDEWMRECNASYKVAIKFINWRTAGEGTSEARELDGGPDHFYHSFGLLKYHEQIPLSHYWFDRSYRGKTVEPFDYACYKEPVILDANRSPRRLDGSKVTNYAWHFDAHLVADFLRRFATEKLGVRHVEDRVEHVQRDANGNIESVRTATGRVFDADLFVDCSGFRGLLINKAMEEPFLDMSDHLLNDSAVATQVPHDDDANGVEPFTSAIAMKSGWTWKIPMLGRFGTGYVYSSRFATEDEAVREFCEMWHLDPETQPLNRIRFRVGRNRRAWVGNCVSIGTSSCFVEPLESTGIYFVYAALYQLVKHFPDKSLNPVLTARFNREIETMFDDTRDFIQAHFYFSPRTDTPFWRANKELRLADGMQEKIDMYRAGMAINAPASDDAQLYYGNFEEEFRNFWNNSNYYCVLAGLGLVPDAPSPRLAHMPQATESVDEVFGAVKDRQRNLLETLPSLHEFLRQQHGR\"\n",
    "import os\n",
    "\n",
    "# Create a temporary directory if it doesn't exist\n",
    "tmp_dir = \"/tmp/\"\n",
    "os.makedirs(tmp_dir, exist_ok=True)\n",
    "\n",
    "# Define the path for the fasta file\n",
    "fasta_file_path = os.path.join(tmp_dir, \"rebh.fasta\")\n",
    "\n",
    "# Write the sequence to a fasta file\n",
    "with open(fasta_file_path, \"w\") as file:\n",
    "    file.write(\">rebh\\n\")\n",
    "    file.write(seq + \"\\n\")\n",
    "\n",
    "print(f\"Fasta file created at {fasta_file_path}\")\n"
   ]
  },
  {
   "cell_type": "code",
   "execution_count": 9,
   "metadata": {},
   "outputs": [
    {
     "name": "stdout",
     "output_type": "stream",
     "text": [
      "easy-search /tmp/rebh.fasta /mnt/protein_dbs/uniprotkb /tmp/rebh_results.m8 /tmp \n",
      "\n",
      "MMseqs Version:                        \t15.6f452\n",
      "Substitution matrix                    \taa:blosum62.out,nucl:nucleotide.out\n",
      "Add backtrace                          \tfalse\n",
      "Alignment mode                         \t3\n",
      "Alignment mode                         \t0\n",
      "Allow wrapped scoring                  \tfalse\n",
      "E-value threshold                      \t0.001\n",
      "Seq. id. threshold                     \t0\n",
      "Min alignment length                   \t0\n",
      "Seq. id. mode                          \t0\n",
      "Alternative alignments                 \t0\n",
      "Coverage threshold                     \t0\n",
      "Coverage mode                          \t0\n",
      "Max sequence length                    \t65535\n",
      "Compositional bias                     \t1\n",
      "Compositional bias                     \t1\n",
      "Max reject                             \t2147483647\n",
      "Max accept                             \t2147483647\n",
      "Include identical seq. id.             \tfalse\n",
      "Preload mode                           \t0\n",
      "Pseudo count a                         \tsubstitution:1.100,context:1.400\n",
      "Pseudo count b                         \tsubstitution:4.100,context:5.800\n",
      "Score bias                             \t0\n",
      "Realign hits                           \tfalse\n",
      "Realign score bias                     \t-0.2\n",
      "Realign max seqs                       \t2147483647\n",
      "Correlation score weight               \t0\n",
      "Gap open cost                          \taa:11,nucl:5\n",
      "Gap extension cost                     \taa:1,nucl:2\n",
      "Zdrop                                  \t40\n",
      "Threads                                \t5\n",
      "Compressed                             \t0\n",
      "Verbosity                              \t3\n",
      "Seed substitution matrix               \taa:VTML80.out,nucl:nucleotide.out\n",
      "Sensitivity                            \t5.7\n",
      "k-mer length                           \t0\n",
      "Target search mode                     \t0\n",
      "k-score                                \tseq:2147483647,prof:2147483647\n",
      "Alphabet size                          \taa:21,nucl:5\n",
      "Max results per query                  \t300\n",
      "Split database                         \t0\n",
      "Split mode                             \t2\n",
      "Split memory limit                     \t0\n",
      "Diagonal scoring                       \ttrue\n",
      "Exact k-mer matching                   \t0\n",
      "Mask residues                          \t1\n",
      "Mask residues probability              \t0.9\n",
      "Mask lower case residues               \t0\n",
      "Minimum diagonal score                 \t15\n",
      "Selected taxa                          \t\n",
      "Spaced k-mers                          \t1\n",
      "Spaced k-mer pattern                   \t\n",
      "Local temporary path                   \t\n",
      "Rescore mode                           \t0\n",
      "Remove hits by seq. id. and coverage   \tfalse\n",
      "Sort results                           \t0\n",
      "Mask profile                           \t1\n",
      "Profile E-value threshold              \t0.001\n",
      "Global sequence weighting              \tfalse\n",
      "Allow deletions                        \tfalse\n",
      "Filter MSA                             \t1\n",
      "Use filter only at N seqs              \t0\n",
      "Maximum seq. id. threshold             \t0.9\n",
      "Minimum seq. id.                       \t0.0\n",
      "Minimum score per column               \t-20\n",
      "Minimum coverage                       \t0\n",
      "Select N most diverse seqs             \t1000\n",
      "Pseudo count mode                      \t0\n",
      "Min codons in orf                      \t30\n",
      "Max codons in length                   \t32734\n",
      "Max orf gaps                           \t2147483647\n",
      "Contig start mode                      \t2\n",
      "Contig end mode                        \t2\n",
      "Orf start mode                         \t1\n",
      "Forward frames                         \t1,2,3\n",
      "Reverse frames                         \t1,2,3\n",
      "Translation table                      \t1\n",
      "Translate orf                          \t0\n",
      "Use all table starts                   \tfalse\n",
      "Offset of numeric ids                  \t0\n",
      "Create lookup                          \t0\n",
      "Add orf stop                           \tfalse\n",
      "Overlap between sequences              \t0\n",
      "Sequence split mode                    \t1\n",
      "Header split mode                      \t0\n",
      "Chain overlapping alignments           \t0\n",
      "Merge query                            \t1\n",
      "Search type                            \t0\n",
      "Search iterations                      \t1\n",
      "Start sensitivity                      \t4\n",
      "Search steps                           \t1\n",
      "Prefilter mode                         \t0\n",
      "Exhaustive search mode                 \tfalse\n",
      "Filter results during exhaustive search\t0\n",
      "Strand selection                       \t1\n",
      "LCA search mode                        \tfalse\n",
      "Disk space limit                       \t0\n",
      "MPI runner                             \t\n",
      "Force restart with latest tmp          \tfalse\n",
      "Remove temporary files                 \ttrue\n",
      "Alignment format                       \t0\n",
      "Format alignment output                \tquery,target,fident,alnlen,mismatch,gapopen,qstart,qend,tstart,tend,evalue,bits\n",
      "Database output                        \tfalse\n",
      "Overlap threshold                      \t0\n",
      "Database type                          \t0\n",
      "Shuffle input database                 \ttrue\n",
      "Createdb mode                          \t0\n",
      "Write lookup file                      \t0\n",
      "Greedy best hits                       \tfalse\n",
      "\n",
      "createdb /tmp/rebh.fasta /tmp/12814389142967062817/query --dbtype 0 --shuffle 1 --createdb-mode 0 --write-lookup 0 --id-offset 0 --compressed 0 -v 3 \n",
      "\n",
      "Converting sequences\n",
      "\n",
      "Time for merging to query_h: 0h 0m 0s 6ms\n",
      "Time for merging to query: 0h 0m 0s 6ms\n",
      "Database type: Aminoacid\n",
      "Time for processing: 0h 0m 0s 41ms\n",
      "Create directory /tmp/12814389142967062817/search_tmp\n",
      "search /tmp/12814389142967062817/query /mnt/protein_dbs/uniprotkb /tmp/12814389142967062817/result /tmp/12814389142967062817/search_tmp --alignment-mode 3 -s 5.7 --remove-tmp-files 1 \n",
      "\n",
      "prefilter /tmp/12814389142967062817/query /mnt/protein_dbs/uniprotkb /tmp/12814389142967062817/search_tmp/18146750381562994484/pref_0 --sub-mat 'aa:blosum62.out,nucl:nucleotide.out' --seed-sub-mat 'aa:VTML80.out,nucl:nucleotide.out' -k 0 --target-search-mode 0 --k-score seq:2147483647,prof:2147483647 --alph-size aa:21,nucl:5 --max-seq-len 65535 --max-seqs 300 --split 0 --split-mode 2 --split-memory-limit 0 -c 0 --cov-mode 0 --comp-bias-corr 1 --comp-bias-corr-scale 1 --diag-score 1 --exact-kmer-matching 0 --mask 1 --mask-prob 0.9 --mask-lower-case 0 --min-ungapped-score 15 --add-self-matches 0 --spaced-kmer-mode 1 --db-load-mode 0 --pca substitution:1.100,context:1.400 --pcb substitution:4.100,context:5.800 --threads 5 --compressed 0 -v 3 -s 5.7 \n",
      "\n"
     ]
    },
    {
     "name": "stdout",
     "output_type": "stream",
     "text": [
      "Query database size: 1 type: Aminoacid\n",
      "Estimated memory consumption: 651G\n",
      "Target database size: 248805733 type: Aminoacid\n",
      "Index table k-mer threshold: 122 at k-mer size 7 \n",
      "Index table: counting k-mers\n",
      "[=================================================================] 100.00% 248.81M 1h 7m 47s 564ms   \n",
      "Index table: Masked residues: 1438789507\n",
      "Index table: fill\n",
      "[=================================================>               ] 76.00% 189.09M eta 35m 57s          \r"
     ]
    },
    {
     "ename": "",
     "evalue": "",
     "output_type": "error",
     "traceback": [
      "\u001b[1;31mFailed to connect to the remote Jupyter Server 'https://9ijcmxoeopscx2.r5.modal.host/'. Verify the server is running and reachable."
     ]
    }
   ],
   "source": [
    "!mmseqs easy-search /tmp/rebh.fasta /mnt/protein_dbs/uniprotkb /tmp/rebh_results.m8 /tmp"
   ]
  },
  {
   "cell_type": "code",
   "execution_count": 4,
   "metadata": {},
   "outputs": [
    {
     "name": "stdout",
     "output_type": "stream",
     "text": [
      "createdb /mnt/protein_dbs/uniprotkb.fasta /mnt/protein_dbs/uniprotkb \n",
      "\n",
      "MMseqs Version:       \t15.6f452\n",
      "Database type         \t0\n",
      "Shuffle input database\ttrue\n",
      "Createdb mode         \t0\n",
      "Write lookup file     \t1\n",
      "Offset of numeric ids \t0\n",
      "Compressed            \t0\n",
      "Verbosity             \t3\n",
      "\n",
      "Converting sequences\n",
      "[248805724] 10m 51s 291ms 3m 32s 872ms0] 3m 55s 771ms25s 13ms3s 79ms5663] 7m 38s 132ms 40s 36ms4] 7m 43s 114ms03776] 7m 48s 110ms36096] 7m 48s 165ms68416] 7m 48s 221ms16896] 7m 48s 322ms49216] 7m 48s 382msm 49s 79ms1424897] 7m 53s 61ms50] 7m 53s 87mss 873mss 849ms17s 3msms74] 8m 18s 117ms71] 8m 25s 97ms205759928] 8m 26s 35ms2ms94906] 8m 29s 58ms7528236] 8m 29s 112ms7560556] 8m 29s 170ms7600956] 8m 29s 236ms7649436] 8m 29s 316ms7657516] 8m 29s 332ms7665596] 8m 29s 347ms7673676] 8m 29s 362ms7681756] 8m 29s 375ms7689836] 8m 29s 389ms7697916] 8m 29s 406ms7705996] 8m 29s 420ms7714076] 8m 29s 433ms7722156] 8m 29s 448ms7738316] 8m 29s 474ms7746396] 8m 29s 487ms7754476] 8m 29s 571ms7762556] 8m 29s 596ms7786796] 8m 29s 726ms7794876] 8m 29s 742ms7802956] 8m 29s 801ms7811036] 8m 29s 816ms7843356] 8m 29s 964ms7851436] 8m 29s 978ms7859516] 8m 29s 993mss 30s 160ms 30s 243ms 30s 428ms 30s 445ms 30s 492ms 30s 573ms 30s 760ms 30s 842ms 30s 976ms 30s 989mss496927] 8m 33s 81mss 122mss 174mss 233mss 298mss 354mss 431mss 456mss 541mss 566mss 652mss 678mss 760ms0] 8m 34s 75ms209109896] 8m 34s 110ms89] 8m 35s 29mss 62ms210192010] 8m 36s 76mss 163mss 228mss 89msms75447] 8m 38s 58ms33017] 8m 38s 210ms41097] 8m 38s 255ms73417] 8m 38s 437ms97657] 8m 38s 579ms8107] 8m 40s 64ms 40s 82ms1889214] 8m 40s 145ms1897294] 8m 40s 164ms1945774] 8m 40s 266ms1961934] 8m 40s 299ms1994254] 8m 40s 358ms2002334] 8m 40s 372ms2034654] 8m 40s 444ms2042734] 8m 40s 460ms2058894] 8m 40s 505ms2066974] 8m 40s 527ms2099294] 8m 40s 582ms2107374] 8m 40s 595ms2147774] 8m 40s 667ms2155854] 8m 40s 680ms2196254] 8m 40s 743ms2204334] 8m 40s 762ms2228574] 8m 40s 801ms2236654] 8m 40s 816ms2244734] 8m 40s 828ms2252814] 8m 40s 841ms2260894] 8m 40s 853ms2268974] 8m 40s 867ms2277054] 8m 40s 879ms2285134] 8m 40s 897ms2293214] 8m 40s 910ms2301294] 8m 40s 925ms2325534] 8m 40s 964ms2333614] 8m 40s 977ms358561] 8m 41s 18ms8m 41s 35ms8m 41s 76ms9ms0] 8m 41s 130ms0] 8m 41s 143ms0] 8m 41s 189ms0] 8m 41s 202ms0] 8m 41s 240ms0] 8m 41s 253ms0] 8m 41s 290ms0] 8m 41s 304ms0] 8m 41s 350ms0] 8m 41s 363ms0] 8m 41s 404ms0] 8m 41s 416ms0] 8m 41s 430ms0] 8m 41s 445ms0] 8m 41s 515ms0] 8m 41s 527ms0] 8m 41s 599ms0] 8m 41s 613ms0] 8m 41s 685ms0] 8m 41s 700ms0] 8m 41s 726ms0] 8m 41s 739ms0] 8m 41s 782ms0] 8m 41s 812ms0] 8m 41s 935ms0] 8m 41s 978ms 8m 42s 44mss 119mss 209mss 293mss 369mss 444mss 566mss 692mss 819ms213161713] 8m 43s 34ms9047] 8m 44s 29ms44s 102ms44s 216ms44s 244ms44s 321ms44s 349ms44s 426ms44s 498ms44s 513ms44s 579ms44s 670ms44s 684ms44s 743ms44s 769ms44s 834ms44s 890ms44s 936ms44s 975ms44s 988ms13] 8m 45s 40ms5s 53msm 45s 122msm 45s 163msm 45s 192msm 45s 259msm 45s 286msm 45s 317msm 45s 370msm 45s 382msm 45s 447msm 45s 505msm 45s 558msm 45s 632msm 45s 705msm 45s 720msm 45s 870msm 45s 926ms30] 8m 46s 29ms6s 44ms44] 8m 46s 140ms24] 8m 46s 155ms64] 8m 46s 310ms44] 8m 46s 390ms64] 8m 46s 581ms04] 8m 46s 757ms736808] 8m 47s 102ms761048] 8m 47s 145ms785288] 8m 47s 220ms793368] 8m 47s 271ms809528] 8m 47s 302ms817608] 8m 47s 348ms849928] 8m 47s 455ms866088] 8m 47s 495ms898408] 8m 47s 556ms914568] 8m 47s 583ms938808] 8m 47s 628ms946888] 8m 47s 642ms954968] 8m 47s 656ms963048] 8m 47s 671ms971128] 8m 47s 684ms979208] 8m 47s 698ms027688] 8m 47s 785ms035768] 8m 47s 798ms092328] 8m 47s 904ms100408] 8m 47s 919ms393] 8m 48s 10ms48s 23msm 48s 139msm 48s 204msm 48s 221msm 48s 299msm 48s 398msm 48s 477msm 48s 575msm 48s 649msm 48s 743msm 48s 875ms7555] 8m 53s 50mss8ms8ms32] 8m 55s 52ms8m 56s 2ms48962] 8m 56s 97ms44ms59ms01ms15ms28ms41ms86ms00ms13ms28ms67ms81ms27ms39ms09ms21ms54ms70ms29ms56ms07ms35ms99ms13ms96ms40ms95] 8m 57s 50ms57s 114ms57s 142ms57s 156ms57s 170ms57s 218ms57s 246ms57s 317ms57s 348ms57s 375ms57s 414ms57s 474ms57s 500ms57s 513ms57s 528ms57s 567ms57s 597ms57s 638ms57s 677ms57s 748ms57s 762ms57s 804ms57s 818ms57s 861ms57s 887ms57s 926ms57s 939ms57s 964ms57s 995msms43600] 8m 58s 49ms7132] 8m 58s 104ms3292] 8m 58s 133ms1372] 8m 58s 149ms3692] 8m 58s 200ms7932] 8m 58s 239ms6012] 8m 58s 254ms4092] 8m 58s 272ms2172] 8m 58s 285ms0252] 8m 58s 297ms8332] 8m 58s 310ms2572] 8m 58s 349ms8732] 8m 58s 377ms6812] 8m 58s 390ms2972] 8m 58s 428ms9132] 8m 58s 456ms7212] 8m 58s 471ms5292] 8m 58s 484ms7612] 8m 58s 542ms5692] 8m 58s 556ms3772] 8m 58s 570ms8012] 8m 58s 609ms4172] 8m 58s 641ms0332] 8m 58s 671ms6492] 8m 58s 698ms0732] 8m 58s 739ms8812] 8m 58s 752ms1132] 8m 58s 849ms3452] 8m 58s 942ms59s 32ms4] 8m 59s 132ms4] 8m 59s 165ms4] 8m 59s 248ms4] 8m 59s 276ms4] 8m 59s 292ms4] 8m 59s 306ms4] 8m 59s 405ms4] 8m 59s 447ms4] 8m 59s 558ms4] 8m 59s 613ms4] 8m 59s 762ms4] 8m 59s 775ms4] 8m 59s 832ms4] 8m 59s 874ms4] 8m 59s 926ms4] 8m 59s 995ms5943] 9m 0s 135ms 0s 149ms1193] 9m 0s 182ms 0s 307ms1693] 9m 0s 347ms 0s 360ms6943] 9m 0s 415msss7443] 9m 0s 552ms2693] 9m 0s 630ms 0s 646ms 0s 687mss3193] 9m 0s 715ms 0s 813mss3693] 9m 0s 840ms 0s 860mss8943] 9m 0s 909ms 0s 924ms4193] 9m 0s 964ms 0s 977ms1] 9m 1s 23ms727017] 9m 1s 136ms9m 1s 148ms752267] 9m 1s 188ms2ms9m 1s 253ms6ms802767] 9m 1s 292ms2ms828017] 9m 1s 364ms9m 1s 395ms0ms9m 1s 473ms5ms9ms903767] 9m 1s 633ms9m 1s 654ms8ms954267] 9m 1s 774ms9m 1s 812ms7ms004767] 9m 1s 885ms7894] 9m 2s 53ms56681] 9m 2s 89ms] 9m 2s 103ms117ms21082234] 9m 2s 147ms] 9m 2s 195ms] 9m 2s 252ms300ms21132734] 9m 2s 314ms] 9m 2s 328ms361ms21157984] 9m 2s 417ms21183234] 9m 2s 527ms] 9m 2s 578ms21233734] 9m 2s 794ms] 9m 2s 814ms] 9m 2s 929ms969ms1318271] 9m 3s 245ms 9m 3s 293ms 9m 3s 463ms78ms 9m 3s 759ms1419271] 9m 3s 896ms59ms1496839] 9m 4s 173ms 9m 4s 402ms63ms1698839] 9m 4s 616ms07ms 5s 24ms 9m 5s 83ms120] 9m 5s 255ms5s 269ms120] 9m 5s 492ms5s 512ms120] 9m 5s 695ms870] 9m 5s 841ms5s 995ms2298779] 9m 6s 35ms 177ms222384427] 9m 6s 193ms222460177] 9m 6s 344ms 419ms26] 9m 6s 719ms2ms504] 9m 13s 53ms56] 9m 13s 159ms 6mss79] 9m 15s 38ms26105974] 9m 15s 119ms26114054] 9m 15s 136ms26170614] 9m 15s 232ms26178694] 9m 15s 246ms26243334] 9m 15s 359ms26251414] 9m 15s 378ms26307974] 9m 15s 478ms26324134] 9m 15s 511ms26372614] 9m 15s 593ms26388774] 9m 15s 625ms26437254] 9m 15s 711ms26477654] 9m 15s 795ms68696] 9m 17s 71ms36] 9m 18s 53ms8s 68ms415] 9m 20s 65ms20s 149ms20s 163ms20s 241ms20s 255ms20s 318ms20s 332ms20s 401ms20s 414ms20s 484ms20s 501ms20s 603ms20s 614ms20s 679ms20s 691ms20s 756ms20s 768ms20s 864ms20s 882ms20s 956ms20s 969msm 21s 40msms40ms51ms39ms50ms24ms37ms48ms60ms72ms92ms04ms16ms28ms40ms52ms64ms75ms87ms99ms12ms27ms46ms62ms75ms88ms00ms13ms25ms38ms53ms67ms84ms00ms17ms30ms45ms60ms76ms92ms04ms18ms29ms55ms71ms00ms13ms44ms59ms75ms91mss 27ms229361103] 9m 22s 42ms6] 9m 22s 57mss 69ms6] 9m 22s 97ms111ms124ms141ms206ms292ms417ms599ms 9m 23s 132ms 9m 23s 606ms9888828] 9m 24s 91ms29969830] 9m 24s 557ms30050630] 9m 24s 729ms30131430] 9m 24s 862ms5ms 25s 123ms19ms67ms1873478] 9m 29s 80ms111ms123ms164ms177ms191ms204ms245ms260ms288ms300ms332ms346ms370ms383ms397ms410ms437ms457ms471ms484ms524ms539ms611ms625ms667ms683ms694ms708ms722ms771ms823ms924ms982ms2294143] 9m 30s 30ms 9m 30s 77ms92ms30ms42ms10ms39ms25ms40ms55ms74ms60ms01ms47ms61ms61ms17ms65ms82ms71ms90ms89ms577953] 9m 31s 29ms2900] 9m 31s 134ms0980] 9m 31s 188ms5220] 9m 31s 308ms3300] 9m 31s 348ms7540] 9m 31s 495ms5620] 9m 31s 507ms9860] 9m 31s 596ms7940] 9m 31s 608ms2180] 9m 31s 650ms0260] 9m 31s 664ms4500] 9m 31s 727ms2580] 9m 31s 757ms0660] 9m 31s 808ms8740] 9m 31s 860ms6820] 9m 31s 911ms4900] 9m 31s 961ms 17ms32821565] 9m 32s 64ms] 9m 32s 77ms] 9m 32s 118ms] 9m 32s 169ms] 9m 32s 220ms] 9m 32s 275ms] 9m 32s 322ms] 9m 32s 335ms] 9m 32s 376ms] 9m 32s 426ms] 9m 32s 437ms] 9m 32s 449ms] 9m 32s 491ms] 9m 32s 560ms] 9m 32s 587ms] 9m 32s 612ms] 9m 32s 660ms] 9m 32s 713ms] 9m 32s 760ms] 9m 32s 786ms] 9m 32s 819ms] 9m 32s 973ms] 9m 32s 987ms] 9m 33s 30ms 132ms 185ms 240ms 290ms 317ms 343ms 394ms 413ms 428ms 448ms 499ms 513ms 527ms 551ms 604ms 619ms 632ms 657ms 705ms 720ms 734ms 763ms 813ms 829ms 843ms 870ms 917ms 933ms 946ms 976ms33332423] 9m 34s 34ms] 9m 34s 86ms] 9m 34s 137ms] 9m 34s 189ms] 9m 34s 240ms] 9m 34s 292ms] 9m 34s 344ms] 9m 34s 404ms] 9m 34s 457ms] 9m 34s 509ms] 9m 34s 561ms] 9m 34s 615ms] 9m 34s 670ms] 9m 34s 723ms] 9m 34s 779ms] 9m 34s 840ms] 9m 34s 892ms] 9m 34s 944ms] 9m 34s 994ms 49ms33503719] 9m 35s 99ms1799] 9m 35s 163ms9879] 9m 35s 214ms7959] 9m 35s 268ms6039] 9m 35s 317ms4119] 9m 35s 331ms2199] 9m 35s 373ms0279] 9m 35s 421ms8359] 9m 35s 436ms6439] 9m 35s 455ms4519] 9m 35s 487ms2599] 9m 35s 535ms0679] 9m 35s 589ms8759] 9m 35s 639ms6839] 9m 35s 661ms4919] 9m 35s 760ms 32ms33771672] 9m 37s 47ms] 9m 37s 60ms 77ms33796922] 9m 37s 92ms 116ms 131ms 147ms 194ms 241ms 257ms 277ms 292ms 438ms 484ms 501ms 536ms 617ms 712ms 831ms 865ms233991347] 9m 38s 359ms233999427] 9m 38s 447ms234007507] 9m 38s 464ms234023667] 9m 38s 528ms234031747] 9m 38s 541ms234047907] 9m 38s 603ms234064067] 9m 38s 674ms234120627] 9m 38s 925ms5873] 9m 39s 360ms0113] 9m 39s 526ms8193] 9m 39s 579ms6273] 9m 39s 633ms4353] 9m 39s 686ms2433] 9m 39s 738ms4753] 9m 39s 949ms2833] 9m 39s 963ms0913] 9m 39s 978ms 6ms4445] 9m 40s 110ms2525] 9m 40s 162ms7455] 9m 41s 230ms5535] 9m 41s 246ms3615] 9m 41s 261ms1695] 9m 41s 276ms9775] 9m 41s 297ms7855] 9m 41s 343ms5935] 9m 41s 359ms4015] 9m 41s 402ms2095] 9m 41s 449ms0175] 9m 41s 465ms0575] 9m 41s 580ms8655] 9m 41s 595ms6735] 9m 41s 615ms4815] 9m 41s 630ms2895] 9m 41s 644ms0975] 9m 41s 662ms9055] 9m 41s 680ms7135] 9m 41s 696ms5215] 9m 41s 715ms3295] 9m 41s 730ms1375] 9m 41s 744ms9455] 9m 41s 759ms7535] 9m 41s 773ms5615] 9m 41s 788ms3695] 9m 41s 802ms1775] 9m 41s 826ms9855] 9m 41s 843ms7935] 9m 41s 860ms6015] 9m 41s 876ms4095] 9m 41s 892ms2175] 9m 41s 936ms0255] 9m 41s 959ms8335] 9m 41s 976ms6415] 9m 41s 992ms899] 9m 42s 10ms42s 58ms42s 117ms42s 175ms42s 226ms42s 243ms42s 287ms42s 317ms42s 337ms42s 352ms42s 368ms42s 383ms42s 398ms42s 413ms42s 428ms42s 447ms42s 463ms42s 479ms42s 498ms42s 516ms42s 535ms42s 554ms42s 570ms42s 586ms42s 600ms42s 617ms42s 635ms42s 652ms42s 668ms42s 684ms42s 699ms42s 715ms42s 735ms42s 749ms42s 764ms42s 777ms42s 794ms42s 809ms42s 848ms42s 912ms42s 960ms42s 974ms42s 990ms3147] 9m 43s 5ms] 9m 43s 22ms 40ms35208498] 9m 43s 86ms235216780] 9m 43s 139ms235224860] 9m 43s 199ms235232940] 9m 43s 251ms235241020] 9m 43s 310ms235249100] 9m 43s 367ms235257180] 9m 43s 436ms235265260] 9m 43s 489ms235273340] 9m 43s 548ms235281420] 9m 43s 600ms235289500] 9m 43s 661ms235297580] 9m 43s 716ms235305660] 9m 43s 779ms235313740] 9m 43s 836ms235321820] 9m 43s 895ms235329900] 9m 43s 951msss 63mss 118mss 184mss 241mss 297mss 356mss 410mss 466mss 521mss 579mss 635mss 691mss 746mss 805mss 862mss 920mss 972ms235484430] 9m 45s 34ms3] 9m 45s 88ms01095] 9m 45s 147ms09175] 9m 45s 201ms17255] 9m 45s 261ms25335] 9m 45s 314ms33415] 9m 45s 371ms41495] 9m 45s 430ms49575] 9m 45s 489ms57655] 9m 45s 540ms65735] 9m 45s 603ms73815] 9m 45s 652ms81895] 9m 45s 710ms89975] 9m 45s 767ms98055] 9m 45s 827ms06135] 9m 45s 877ms14215] 9m 45s 937ms22295] 9m 45s 993ms6s 55ms6s 108ms6s 168ms6s 220ms6s 279ms6s 335ms6s 393ms6s 445ms6s 503ms6s 556ms6s 614ms6s 670ms6s 739ms6s 793ms6s 848ms6s 903ms6s 959ms 9m 47s 14ms71ms134ms191ms244ms299ms354ms408ms475ms534ms624ms673ms758ms777ms838ms931ms959ms10] 9m 48s 21ms8s 110ms8s 175ms8s 261ms8s 311ms8s 363ms8s 382ms8s 430ms8s 486ms8s 603ms8s 725ms8s 812ms8s 860ms8s 872ms8s 919ms8s 932ms8s 945msms52757] 9m 49s 77ms236060938] 9m 49s 157ms236069018] 9m 49s 170ms236077098] 9m 49s 221ms236085178] 9m 49s 278ms236093258] 9m 49s 332ms236101338] 9m 49s 387ms236109418] 9m 49s 443ms236117498] 9m 49s 501ms236125578] 9m 49s 556ms236133658] 9m 49s 647ms236141738] 9m 49s 667ms236149818] 9m 49s 739ms236157898] 9m 49s 832ms236165978] 9m 49s 853ms236174058] 9m 49s 911ms236182138] 9m 49s 971ms] 9m 50s 24ms 83ms 134ms 195ms 256ms 316ms 369ms 427ms 772ms34ms59ms017] 9m 52s 100ms097] 9m 52s 170ms817] 9m 52s 669ms 121ms 537ms768] 9m 54s 63ms5610] 9m 54s 470ms8330] 9m 54s 625ms2970] 9m 54s 748ms7610] 9m 54s 872ms6090] 9m 54s 970msms] 9m 55s 146mss 91ms78] 9m 57s 79ms7s 94ms8010743] 9m 57s 107ms 59s 10mss2613] 9m 59s 42ms 59s 56mss7863] 9m 59s 85ms46] 9m 59s 101ms26] 9m 59s 114ms06] 9m 59s 132ms86] 9m 59s 146ms66] 9m 59s 161ms46] 9m 59s 174ms26] 9m 59s 192ms06] 9m 59s 206ms86] 9m 59s 222ms66] 9m 59s 243ms46] 9m 59s 258ms26] 9m 59s 272ms06] 9m 59s 288ms86] 9m 59s 304ms66] 9m 59s 320ms46] 9m 59s 336ms06] 9m 59s 376ms86] 9m 59s 390ms66] 9m 59s 408ms46] 9m 59s 423ms26] 9m 59s 440ms06] 9m 59s 462ms86] 9m 59s 478ms66] 9m 59s 494ms46] 9m 59s 510ms26] 9m 59s 524ms06] 9m 59s 544ms86] 9m 59s 559ms66] 9m 59s 575ms46] 9m 59s 590ms26] 9m 59s 606ms06] 9m 59s 620ms86] 9m 59s 635ms66] 9m 59s 654ms46] 9m 59s 668ms26] 9m 59s 682ms06] 9m 59s 697ms86] 9m 59s 711ms66] 9m 59s 725ms46] 9m 59s 748ms26] 9m 59s 760ms06] 9m 59s 775ms86] 9m 59s 788ms66] 9m 59s 803ms46] 9m 59s 817ms26] 9m 59s 832ms06] 9m 59s 855ms86] 9m 59s 870ms66] 9m 59s 885ms46] 9m 59s 898ms26] 9m 59s 917ms06] 9m 59s 937ms86] 9m 59s 970ms66] 9m 59s 989ms38980848] 10m 0s 5mss 19ms238997816] 10m 0s 36ms9] 10m 0s 54mss 75ms06ms27ms47ms62ms75ms89ms07ms25ms38ms57ms32ms84ms39ms93ms49ms01ms55ms09ms62ms8906] 10m 1s 17msm 1s 67mss30ms86ms40ms95ms47ms02ms56ms11ms62ms18ms70ms25ms78ms34ms85ms38ms89ms 10m 2s 42ms92ms388181] 10m 2s 143ms396261] 10m 2s 198ms404341] 10m 2s 252ms412421] 10m 2s 310ms420501] 10m 2s 362ms428581] 10m 2s 420ms436661] 10m 2s 472ms444741] 10m 2s 523ms452821] 10m 2s 575ms460901] 10m 2s 633ms468981] 10m 2s 681ms477061] 10m 2s 737ms485141] 10m 2s 788ms493221] 10m 2s 843ms501301] 10m 2s 894ms509381] 10m 2s 954ms 3s 2ms7] 10m 3s 58ms9] 10m 3s 110ms9] 10m 3s 166ms9] 10m 3s 218ms9] 10m 3s 275ms9] 10m 3s 329ms9] 10m 3s 383ms9] 10m 3s 440ms9] 10m 3s 493ms9] 10m 3s 552ms9] 10m 3s 604ms9] 10m 3s 681ms9] 10m 3s 738ms9] 10m 3s 803ms9] 10m 3s 858ms9] 10m 3s 917ms9] 10m 3s 963ms9] 10m 3s 980ms1ms10m 4s 20ms5ms697241] 10m 4s 53ms10m 4s 77ms10m 4s 134ms10m 4s 198ms10m 4s 256ms10m 4s 308ms10m 4s 362ms10m 4s 415ms10m 4s 470ms10m 4s 534ms10m 4s 590ms10m 4s 643ms10m 4s 698ms10m 4s 752ms10m 4s 807ms10m 4s 868ms10m 4s 921ms10m 4s 977ms2ms851771] 10m 5s 84ms9860053] 10m 5s 140ms9868133] 10m 5s 197ms9876213] 10m 5s 258ms9884293] 10m 5s 310ms9892373] 10m 5s 364ms9900453] 10m 5s 417ms9908533] 10m 5s 469ms9916613] 10m 5s 522ms9924693] 10m 5s 577ms9932773] 10m 5s 632ms9940853] 10m 5s 685ms9948933] 10m 5s 739ms9957013] 10m 5s 790ms9965093] 10m 5s 844ms9973173] 10m 5s 901ms9981253] 10m 5s 982ms] 10m 6s 3ms9998019] 10m 6s 56ms40006301] 10m 6s 112ms40014381] 10m 6s 229ms40022461] 10m 6s 282ms40030541] 10m 6s 298ms40038621] 10m 6s 379ms40046701] 10m 6s 395ms40054781] 10m 6s 453ms40062861] 10m 6s 567ms40070941] 10m 6s 620ms40079021] 10m 6s 672ms40087101] 10m 6s 718ms40095181] 10m 6s 764ms40103261] 10m 6s 847ms40111341] 10m 6s 872ms40119421] 10m 6s 948ms7s 102ms7s 246ms7s 261ms7s 310ms7s 391ms7s 407ms7s 457ms7s 511ms7s 525ms7s 541ms7s 592ms7s 685ms7s 710ms7s 800ms7s 834ms7s 887ms0m 8s 54ms0m 8s 107ms0m 8s 163ms0m 8s 216ms0m 8s 271ms0m 8s 326ms0m 8s 435ms0m 8s 495ms0m 8s 549ms0m 8s 607ms0m 8s 667ms0m 8s 726ms0m 8s 849ms0m 8s 907ms0m 8s 967msms452216] 10m 9s 334ms460296] 10m 9s 396ms476456] 10m 9s 514ms484536] 10m 9s 586ms492616] 10m 9s 648ms500696] 10m 9s 708ms516856] 10m 9s 822ms524936] 10m 9s 883ms549378] 10m 10s 54msms67ms 223ms0s 279ms 10s 337ms0m 10s 391ms 10m 10s 450ms5] 10m 10s 510ms472] 10m 10s 574ms27249] 10m 10s 626ms0635026] 10m 10s 688ms240642803] 10m 10s 743msms21msss524] 10m 11s 211ms13301] 10m 11s 274msms1s 670ms 11s 728ms0m 11s 779ms 10m 11s 835ms7] 10m 11s 884ms524] 10m 11s 900ms14301] 10m 11s 918ms0822078] 10m 11s 955ms30057] 10m 12s 4ms40838238] 10m 12s 64ms13ms 171ms2s 218ms 12s 237ms0m 12s 284ms 10m 12s 335ms8] 10m 12s 389ms555] 10m 12s 440ms08332] 10m 12s 498ms0916109] 10m 12s 548ms240923886] 10m 12s 566msms16ms 763ms2s 776ms 12s 789ms0m 12s 808ms 10m 12s 824ms8] 10m 12s 839ms555] 10m 12s 874ms09332] 10m 12s 889ms1017109] 10m 12s 932ms241024886] 10m 12s 982ms2764] 10m 13s 38ms0844] 10m 13s 90ms241048823] 10m 13s 105msms18ms 233ms3s 272ms 13s 325ms0m 13s 383ms 10m 13s 434ms5] 10m 13s 501ms492] 10m 13s 551ms34269] 10m 13s 610ms1142046] 10m 13s 661ms241149823] 10m 13s 717msms88ms 944ms3s 998mssms75ms 224ms4s 239ms 14s 286ms0m 14s 342ms 10m 14s 357ms3] 10m 14s 372ms760] 10m 14s 396ms82537] 10m 14s 448ms1290314] 10m 14s 463ms241298091] 10m 14s 483msms49ms 698ms4s 759ms 14s 816ms 10m 14s 923ms3] 10m 14s 977ms0m 15s 89ms920] 10m 15s 148ms99697] 10m 15s 206ms1407474] 10m 15s 258ms241415251] 10m 15s 319msms82ms 539ms5s 590ms 15s 647ms0m 15s 699ms 10m 15s 754ms3] 10m 15s 807ms920] 10m 15s 866ms00697] 10m 15s 920ms1508474] 10m 15s 976ms352] 10m 16s 27ms432] 10m 16s 86mss7ms304mss 357ms16s 411msm 16s 465ms10m 16s 522ms] 10m 16s 579ms03] 10m 16s 633ms0080] 10m 16s 687ms617857] 10m 16s 745ms41625634] 10m 16s 796mss8ms241656843] 10m 17s 22ms241664923] 10m 17s 86ms141mss 198ms17s 252msm 17s 315ms10m 17s 369ms] 10m 17s 427ms63] 10m 17s 482ms7240] 10m 17s 542ms2ms880mss 936ms17s 998msmsm 18s 170ms10m 18s 231ms] 10m 18s 289ms23] 10m 18s 349ms4400] 10m 18s 404ms852177] 10m 18s 464ms41859954] 10m 18s 523mss0ms706mss 752ms18s 802msm 18s 819ms10m 18s 863ms] 10m 18s 920ms23] 10m 18s 973ms10m 19s 38ms10m 19s 96ms19s 460msm 19s 517ms10m 19s 577ms] 10m 19s 646ms51] 10m 19s 702ms9128] 10m 19s 759ms046905] 10m 19s 813ms42054682] 10m 19s 873mss48msm 20s 110ms10m 20s 165ms] 10m 20s 227ms25] 10m 20s 291ms7302] 10m 20s 355ms125079] 10m 20s 411ms42132856] 10m 20s 508ms2ms745mss 837ms242202950] 10m 21s 52mss 107ms21s 166msm 21s 181ms10m 21s 232ms] 10m 21s 325ms13] 10m 21s 528ms7490] 10m 21s 619ms265267] 10m 21s 669ms42273044] 10m 21s 725mss5ms865mss 919ms21s 969ms2327685] 10m 22s 21ms2335765] 10m 22s 38ms2343845] 10m 22s 64ms42351723] 10m 22s 126mss8ms193mss 209ms22s 226msm 22s 243ms10m 22s 257ms] 10m 22s 294ms92] 10m 22s 349ms7169] 10m 22s 409ms444946] 10m 22s 466ms42452723] 10m 22s 525mss7ms753mss 797ms22s 818msm 22s 834ms10m 22s 849ms] 10m 22s 866ms92] 10m 22s 881ms8169] 10m 22s 898ms545946] 10m 22s 924ms42553723] 10m 22s 983ms601] 10m 23s 38ms681] 10m 23s 96ms0ms208mss 275ms23s 336msm 23s 389ms10m 23s 448ms] 10m 23s 499ms97] 10m 23s 560ms9674] 10m 23s 623ms647451] 10m 23s 682ms42655228] 10m 23s 737mss1ms917mss 969msmsmsms4s 106ms 24s 122ms0m 24s 144ms 10m 24s 190ms7] 10m 24s 250ms914] 10m 24s 302ms72691] 10m 24s 362ms2780468] 10m 24s 418ms242788245] 10m 24s 475msms68ms 727ms4s 781ms 24s 970ms] 10m 25s 257ms61] 10m 25s 531ms8238] 10m 25s 801ms866015] 10m 25s 914ms42873792] 10m 25s 960mss897123] 10m 26s 0ms2905304] 10m 26s 20ms2913384] 10m 26s 35ms2921464] 10m 26s 50ms2929544] 10m 26s 66ms2937624] 10m 26s 81ms2945704] 10m 26s 95msms29ms 142ms6s 157ms 26s 169ms0m 26s 184ms 10m 26s 196ms0] 10m 26s 210ms697] 10m 26s 236ms23474] 10m 26s 295ms3031251] 10m 26s 354ms243039028] 10m 26s 411msms84ms 647ms6s 699ms 26s 758ms0m 26s 814ms 10m 26s 871ms0] 10m 26s 927ms697] 10m 26s 985ms 10m 27s 41ms 10m 27s 96ms243140533] 10m 27s 149msms19ms 27s 492ms0m 27s 550ms25979] 10m 27s 786ms3233756] 10m 27s 843ms265268] 10m 28s 74msms 28s 370ms0m 28s 422ms 10m 28s 483ms5] 10m 28s 542ms362] 10m 28s 607ms43139] 10m 28s 664ms3350916] 10m 28s 723ms243358693] 10m 28s 779msms52ms02] 10m 29s 14ms82] 10m 29s 73ms43405961] 10m 29s 126mss3ms379mss 435ms29s 491msm 29s 549ms10m 29s 602ms] 10m 29s 663ms30] 10m 29s 722ms1407] 10m 29s 793ms499184] 10m 29s 846ms43506961] 10m 29s 907ms22616] 10m 30s 22ms30696] 10m 30s 79mss8ms270mss 325ms30s 384msm 30s 437ms10m 30s 496ms] 10m 30s 549ms90] 10m 30s 610ms8567] 10m 30s 663ms616344] 10m 30s 722ms43624121] 10m 30s 776mss7ms10m 31s 1ms511] 10m 31s 62mss3ms286mss 332ms31s 347msm 31s 362ms10m 31s 394ms] 10m 31s 442ms82] 10m 31s 460ms9159] 10m 31s 476ms9ms596ms10m 31s 690ms] 10m 31s 704mss10m 32s 107ms] 10m 32s 166mss0ms618mss 674ms10m 32s 850ms] 10m 32s 901mss2msm 33s 610ms10m 33s 679ms138817] 10m 33s 921ms44146594] 10m 33s 987ms44185580] 10m 34s 295ms558mss 651ms94ms 247ms 35s 327ms0m 35s 381ms 10m 35s 398ms33646] 10m 35s 563ms244349200] 10m 35s 598msms5s 703ms869] 10m 35s 783ms74ms 889ms0m 35s 937ms4535747] 10m 36s 2mss 47mss 70ms607659] 10m 36s 150ms44615436] 10m 36s 176ms5ms241ms10m 36s 311ms] 10m 36s 326ms44716436] 10m 36s 395ms455mss 477msm 36s 510ms10m 36s 526ms] 10m 36s 543ms05] 10m 36s 564ms809659] 10m 36s 598ms44817436] 10m 36s 614mss1ms691mss 707ms36s 724msm 36s 744ms10m 36s 764ms] 10m 36s 783ms05] 10m 36s 801ms2882] 10m 36s 819ms910659] 10m 36s 839ms44918436] 10m 36s 861mss4ms931mss 951ms36s 970msm 36s 986ms53] 10m 37s 5ms4988934] 10m 37s 23ms4997014] 10m 37s 45ms5005094] 10m 37s 64ms5013174] 10m 37s 80ms5021254] 10m 37s 98ms031] 10m 37s 114ms36808] 10m 37s 138ms5044585] 10m 37s 154ms245052362] 10m 37s 171msms20ms 240ms4] 10m 37s 325ms031] 10m 37s 342ms37808] 10m 37s 358ms5145585] 10m 37s 373ms245153362] 10m 37s 391msms45ms 461ms7s 477ms 37s 491ms0m 37s 506ms 10m 37s 521ms4] 10m 37s 544ms031] 10m 37s 562ms38808] 10m 37s 576ms5246585] 10m 37s 593ms245254362] 10m 37s 610msms93ms 721ms7s 769ms 37s 784ms0m 37s 830ms 10m 37s 879ms4] 10m 37s 938ms031] 10m 37s 990ms 38s 9ms38s 53ms8s 106ms 38s 163ms0m 38s 214ms 10m 38s 281ms8] 10m 38s 332ms055] 10m 38s 391ms02832] 10m 38s 445ms5410609] 10m 38s 501ms245418386] 10m 38s 555msms28ms 782ms8s 836ms 38s 886ms0m 38s 950ms 10m 39s 3mss 59ms10m 39s 108ms] 10m 39s 166ms16] 10m 39s 218ms0093] 10m 39s 275ms527870] 10m 39s 339ms45535647] 10m 39s 395mss7ms616mss 668ms39s 726msm 39s 786ms10m 39s 846ms] 10m 39s 897ms16] 10m 39s 955ms10m 40s 3ms0s 20ms0s 45ms0s 63ms0s 80ms0s 94msm 40s 119ms10m 40s 170ms] 10m 40s 227ms04] 10m 40s 278ms0681] 10m 40s 332ms708458] 10m 40s 385ms45716235] 10m 40s 436mss5ms649mss 700ms40s 757msm 40s 808ms10m 40s 861ms] 10m 40s 914ms04] 10m 40s 967ms10m 41s 19ms10m 41s 75ms7841] 10m 41s 132ms825618] 10m 41s 183ms45833395] 10m 41s 239mss0msm 41s 618ms10m 41s 673ms8841] 10m 41s 836ms926618] 10m 41s 893ms45934395] 10m 41s 946msm 42s 2ms 169ms 10m 42s 394ms771] 10m 42s 505ms20548] 10m 42s 566ms246036102] 10m 42s 674ms47ms 10m 43s 116ms4] 10m 43s 164ms6122255] 10m 43s 358ms246130032] 10m 43s 417msms54ms72] 10m 44s 117ms2349] 10m 44s 133msss 528ms44s 547ms72] 10m 44s 697ms46308903] 10m 44s 831ms16] 10m 45s 66ms46348495] 10m 45s 127ms307mss 345msm 45s 408ms10m 45s 423mss45s 740mss46s 70ms87ms557] 10m 46s 454ms 46s 670ms47334] 10m 46s 752ms0m 46s 959ms0m 47s 128ms88ms5] 10m 47s 374ms7s 539ms 10m 47s 582ms15ms5] 10m 47s 812ms7s 943mss 33mss8ms49s 5ms49s 111ms5401] 10m 49s 174ms8ms427ms10m 49s 487msssm 49s 818ms10m 49s 830ms3ms 50s 19ms 50s 82ms 50s 97ms82ms0s 306ms 50s 316ms0m 50s 327ms 10m 50s 337ms20288] 10m 50s 374ms8628065] 10m 50s 416ms248635842] 10m 50s 426msms25ms 568ms0s 580ms 50s 595ms0m 50s 642ms 10m 50s 654ms4] 10m 50s 698ms21288] 10m 50s 901ms8729065] 10m 50s 947ms248736842] 10m 50s 960ms 51s 5ms17ms93ms69061] 10m 51s 140ms8776838] 10m 51s 153ms248784615] 10m 51s 258msms\n",
      "Time for merging to uniprotkb_h: 0h 4m 12s 297ms\n",
      "Time for merging to uniprotkb: 0h 7m 22s 697ms\n",
      "Database type: Aminoacid\n",
      "Time for processing: 0h 30m 37s 957ms\n"
     ]
    }
   ],
   "source": [
    "!mmseqs createdb /mnt/protein_dbs/uniprotkb.fasta /mnt/protein_dbs/uniprotkb"
   ]
  }
 ],
 "metadata": {
  "kernelspec": {
   "display_name": "Python 3 (ipykernel)",
   "language": "python",
   "name": "python3"
  }
 },
 "nbformat": 4,
 "nbformat_minor": 2
}
